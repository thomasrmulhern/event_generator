{
 "cells": [
  {
   "cell_type": "code",
   "execution_count": 20,
   "metadata": {},
   "outputs": [],
   "source": [
    "import pandas as pd\n",
    "from numpy.random import choice\n",
    "from random import randint\n",
    "\n",
    "\n",
    "def goal_created(df, created):\n",
    "    # Create an event and unique object ID tuple, add id to the \"created\" set,\n",
    "    # and add the tuple to the dataframe\n",
    "\n",
    "    object_id = randint(99999999,999999999)\n",
    "    created.append(object_id)\n",
    "    row = ['GOAL_CREATED', object_id]\n",
    "    return row\n",
    "\n"
   ]
  },
  {
   "cell_type": "code",
   "execution_count": 21,
   "metadata": {},
   "outputs": [],
   "source": [
    "def goal_completed(df, created, completed):\n",
    "    if len(created) != 0 or len(created) != None:\n",
    "        object_id = choice(created, replace=False)\n",
    "        completed.append(object_id)\n",
    "        created.remove(object_id)\n",
    "        row =  ['GOAL_COMPLETED', object_id]\n",
    "        return row\n",
    "    else:\n",
    "        pass\n",
    "\n"
   ]
  },
  {
   "cell_type": "code",
   "execution_count": 22,
   "metadata": {},
   "outputs": [],
   "source": [
    "def approved_or_denied(df, completed, app_or_den):\n",
    "    if len(completed) > 0 or len(completed) != None:\n",
    "        object_id = choice(completed, replace=False)\n",
    "        app_or_den.append(object_id)\n",
    "        completed.remove(object_id)\n",
    "        event = choice(['GOAL_APPROVED','GOAL_REJECTED'], p=[.7, .3])\n",
    "        if event == 'GOAL_REJECTED':\n",
    "            created.append(object_id)\n",
    "            app_or_den.remove(object_id)\n",
    "        row = [event, object_id]\n",
    "        return row\n",
    "    else:\n",
    "        pass\n",
    "\n"
   ]
  },
  {
   "cell_type": "code",
   "execution_count": 23,
   "metadata": {},
   "outputs": [],
   "source": [
    "    df = []\n",
    "    created = []\n",
    "    completed = []\n",
    "    app_or_den = []"
   ]
  },
  {
   "cell_type": "code",
   "execution_count": 24,
   "metadata": {},
   "outputs": [
    {
     "name": "stdout",
     "output_type": "stream",
     "text": [
      "                Event  object_id\n",
      "0        GOAL_CREATED  588737514\n",
      "1        GOAL_CREATED  150300341\n",
      "2        GOAL_CREATED  884010134\n",
      "3        GOAL_CREATED  405913551\n",
      "4        GOAL_CREATED  715001191\n",
      "5        GOAL_CREATED  684435062\n",
      "6        GOAL_CREATED  363188101\n",
      "7        GOAL_CREATED  796915438\n",
      "8        GOAL_CREATED  993728225\n",
      "9        GOAL_CREATED  339429205\n",
      "10       GOAL_CREATED  815743447\n",
      "11       GOAL_CREATED  667481557\n",
      "12       GOAL_CREATED  800800139\n",
      "13       GOAL_CREATED  616405355\n",
      "14       GOAL_CREATED  925856201\n",
      "15       GOAL_CREATED  354150472\n",
      "16       GOAL_CREATED  754369274\n",
      "17       GOAL_CREATED  989955911\n",
      "18       GOAL_CREATED  112841314\n",
      "19       GOAL_CREATED  443821652\n",
      "20       GOAL_CREATED  232729632\n",
      "21       GOAL_CREATED  523508577\n",
      "22       GOAL_CREATED  859984762\n",
      "23       GOAL_CREATED  103061974\n",
      "24       GOAL_CREATED  102270945\n",
      "25       GOAL_CREATED  761164371\n",
      "26       GOAL_CREATED  562585988\n",
      "27       GOAL_CREATED  859635706\n",
      "28       GOAL_CREATED  178508003\n",
      "29       GOAL_CREATED  993181669\n",
      "...               ...        ...\n",
      "10030  GOAL_COMPLETED  160973981\n",
      "10031    GOAL_CREATED  895106523\n",
      "10032  GOAL_COMPLETED  278336022\n",
      "10033  GOAL_COMPLETED  785629919\n",
      "10034   GOAL_REJECTED  979387090\n",
      "10035    GOAL_CREATED  714842909\n",
      "10036   GOAL_APPROVED  558688896\n",
      "10037  GOAL_COMPLETED  601557250\n",
      "10038    GOAL_CREATED  897315093\n",
      "10039  GOAL_COMPLETED  273811254\n",
      "10040  GOAL_COMPLETED  467996476\n",
      "10041    GOAL_CREATED  284580613\n",
      "10042    GOAL_CREATED  719714571\n",
      "10043   GOAL_APPROVED  968364496\n",
      "10044    GOAL_CREATED  947059490\n",
      "10045   GOAL_APPROVED  254413455\n",
      "10046   GOAL_REJECTED  961670846\n",
      "10047   GOAL_APPROVED  223405005\n",
      "10048  GOAL_COMPLETED  318542164\n",
      "10049    GOAL_CREATED  524485708\n",
      "10050    GOAL_CREATED  479158322\n",
      "10051  GOAL_COMPLETED  291672335\n",
      "10052  GOAL_COMPLETED  153882986\n",
      "10053  GOAL_COMPLETED  698505147\n",
      "10054    GOAL_CREATED  801631798\n",
      "10055   GOAL_REJECTED  308748307\n",
      "10056   GOAL_REJECTED  477372712\n",
      "10057    GOAL_CREATED  610491084\n",
      "10058    GOAL_CREATED  453346786\n",
      "10059    GOAL_CREATED  919876717\n",
      "\n",
      "[10060 rows x 2 columns]\n"
     ]
    }
   ],
   "source": [
    "    for _ in range(50):\n",
    "        event, object_id = goal_created(df, created)\n",
    "        df.append([event, object_id])\n",
    "    for _ in range(10):\n",
    "        event, object_id = goal_completed(df, created, completed)\n",
    "        df.append([event, object_id])\n",
    "\n",
    "    for _ in range(10000):\n",
    "\n",
    "        event = choice(['a','b','c'], 1, p=[0.40, 0.35, 0.25])\n",
    "        if event == 'a':\n",
    "            event, object_id = goal_created(df, created)\n",
    "\n",
    "        elif event == 'b':\n",
    "            event, object_id = goal_completed(df, created, completed)\n",
    "        elif event == 'c':\n",
    "            event, object_id = approved_or_denied(df, completed, app_or_den)\n",
    "        elif event == 'd':\n",
    "            event, object_id = approved_or_denied(df, completed, app_or_den)\n",
    "\n",
    "        df.append([event, object_id])\n",
    "    df = pd.DataFrame(df, columns=['Event', 'object_id'])\n",
    "    print(df)\n",
    "    #df.to_csv('/Users/thomasmulhern/Desktop/test1.csv', index=False)"
   ]
  },
  {
   "cell_type": "code",
   "execution_count": null,
   "metadata": {
    "scrolled": true
   },
   "outputs": [],
   "source": [
    "order = []\n",
    "for index in range(len(df['Event'])):\n",
    "    order.append(choice(range(999999), replace=False))\n",
    "df['Order'] = order\n",
    "                   "
   ]
  },
  {
   "cell_type": "code",
   "execution_count": null,
   "metadata": {
    "scrolled": true
   },
   "outputs": [],
   "source": [
    "df['Order']"
   ]
  },
  {
   "cell_type": "code",
   "execution_count": null,
   "metadata": {
    "scrolled": true
   },
   "outputs": [],
   "source": [
    "df = df.sort_values(df['Order'])"
   ]
  },
  {
   "cell_type": "code",
   "execution_count": null,
   "metadata": {},
   "outputs": [],
   "source": []
  }
 ],
 "metadata": {
  "kernelspec": {
   "display_name": "Python 3",
   "language": "python",
   "name": "python3"
  },
  "language_info": {
   "codemirror_mode": {
    "name": "ipython",
    "version": 3
   },
   "file_extension": ".py",
   "mimetype": "text/x-python",
   "name": "python",
   "nbconvert_exporter": "python",
   "pygments_lexer": "ipython3",
   "version": "3.6.6"
  }
 },
 "nbformat": 4,
 "nbformat_minor": 2
}
